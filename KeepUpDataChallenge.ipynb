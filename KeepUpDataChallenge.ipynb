{
 "cells": [
  {
   "cell_type": "code",
   "execution_count": 1,
   "metadata": {
    "collapsed": true
   },
   "outputs": [],
   "source": [
    "import pandas as pd\n",
    "import numpy as np\n",
    "import matplotlib.pyplot as plt\n",
    "import seaborn as sns"
   ]
  },
  {
   "cell_type": "code",
   "execution_count": 2,
   "metadata": {},
   "outputs": [],
   "source": [
    "master_list=[]\n",
    "values = []\n",
    "key= 'Header'\n",
    "with open('amazon-meta.txt', encoding=\"utf8\") as fp:\n",
    "    for line in fp:\n",
    "        if \"Id:\" in line:\n",
    "            master_list.append([key,values])\n",
    "            key = line.rstrip('\\n')[line.find(':')+1:]\n",
    "            values =[]\n",
    "        else:\n",
    "            values.append(line.rstrip('\\n'))\n",
    "master_list.append([key,values])"
   ]
  },
  {
   "cell_type": "code",
   "execution_count": 3,
   "metadata": {},
   "outputs": [],
   "source": [
    "df=pd.DataFrame(master_list[1:])"
   ]
  },
  {
   "cell_type": "code",
   "execution_count": 4,
   "metadata": {
    "collapsed": true
   },
   "outputs": [],
   "source": [
    "df.columns = ['Id','txt']"
   ]
  },
  {
   "cell_type": "code",
   "execution_count": 5,
   "metadata": {},
   "outputs": [],
   "source": [
    "def split_parts(text):\n",
    "    review_dict={}\n",
    "    i=0\n",
    "    while i<len(text):\n",
    "        line=text[i]\n",
    "        i=i+1\n",
    "        if line.find('Id:')>=0:\n",
    "            review_dict['Id']=line[line.find(':')+1:]\n",
    "        if line.find('ASIN:')==0:\n",
    "            review_dict['ASIN']=line[line.find(':')+1:]\n",
    "        if line.find('group:')>=0:\n",
    "            review_dict['group']=line[line.find(':')+1:]\n",
    "        if line.find('salesrank:')>=0:\n",
    "            review_dict['salesrank']=line[line.find(':')+1:]\n",
    "        if line.find('title:')>=0:\n",
    "            review_dict['title']=line[line.find(':')+1:]\n",
    "        if line.find('categories:')>=0:\n",
    "            all_cat=[]\n",
    "            catExists=True\n",
    "            while ((i<len(text)) & (catExists)):\n",
    "                line=text[i]\n",
    "                if line.find('reviews:')>0:\n",
    "                    catExists=False\n",
    "                else:\n",
    "                    all_cat.append(line)\n",
    "                i=i+1\n",
    "            review_dict['categories']=all_cat\n",
    "        if line.find('reviews:')>0:\n",
    "            review_dict['total_reviews']=line[line.find('total:')+6:line.find('downloaded:')]\n",
    "            review_dict['downloads']=line[line.find('ded:')+4:line.find('avg ra')]\n",
    "            review_dict['avg_rating']=line[line.find('ting:')+5:]\n",
    "            all_reviews=[]\n",
    "            while i<len(text):\n",
    "                line=text[i]\n",
    "                all_reviews.append(line)\n",
    "                i=i+1\n",
    "            review_dict['reviews']=all_reviews\n",
    "    return review_dict"
   ]
  },
  {
   "cell_type": "code",
   "execution_count": 6,
   "metadata": {},
   "outputs": [
    {
     "data": {
      "text/html": [
       "<div>\n",
       "<style>\n",
       "    .dataframe thead tr:only-child th {\n",
       "        text-align: right;\n",
       "    }\n",
       "\n",
       "    .dataframe thead th {\n",
       "        text-align: left;\n",
       "    }\n",
       "\n",
       "    .dataframe tbody tr th {\n",
       "        vertical-align: top;\n",
       "    }\n",
       "</style>\n",
       "<table border=\"1\" class=\"dataframe\">\n",
       "  <thead>\n",
       "    <tr style=\"text-align: right;\">\n",
       "      <th></th>\n",
       "      <th>ASIN</th>\n",
       "      <th>avg_rating</th>\n",
       "      <th>categories</th>\n",
       "      <th>downloads</th>\n",
       "      <th>group</th>\n",
       "      <th>reviews</th>\n",
       "      <th>salesrank</th>\n",
       "      <th>title</th>\n",
       "      <th>total_reviews</th>\n",
       "    </tr>\n",
       "  </thead>\n",
       "  <tbody>\n",
       "    <tr>\n",
       "      <th>2</th>\n",
       "      <td>0738700797</td>\n",
       "      <td>4.5</td>\n",
       "      <td>[   |Books[283155]|Subjects[1000]|Religion &amp; S...</td>\n",
       "      <td>12</td>\n",
       "      <td>Book</td>\n",
       "      <td>[    2001-12-16  cutomer: A11NCO6YTE4BTJ  rati...</td>\n",
       "      <td>168596</td>\n",
       "      <td>Candlemas: Feast of Flames</td>\n",
       "      <td>12</td>\n",
       "    </tr>\n",
       "    <tr>\n",
       "      <th>3</th>\n",
       "      <td>0486287785</td>\n",
       "      <td>5</td>\n",
       "      <td>[   |Books[283155]|Subjects[1000]|Home &amp; Garde...</td>\n",
       "      <td>1</td>\n",
       "      <td>Book</td>\n",
       "      <td>[    2003-7-10  cutomer: A3IDGASRQAW8B2  ratin...</td>\n",
       "      <td>1270652</td>\n",
       "      <td>World War II Allied Fighter Planes Trading Cards</td>\n",
       "      <td>1</td>\n",
       "    </tr>\n",
       "    <tr>\n",
       "      <th>4</th>\n",
       "      <td>0842328327</td>\n",
       "      <td>4</td>\n",
       "      <td>[   |Books[283155]|Subjects[1000]|Religion &amp; S...</td>\n",
       "      <td>1</td>\n",
       "      <td>Book</td>\n",
       "      <td>[    2004-8-19  cutomer: A2591BUPXCS705  ratin...</td>\n",
       "      <td>631289</td>\n",
       "      <td>Life Application Bible Commentary: 1 and 2 Ti...</td>\n",
       "      <td>1</td>\n",
       "    </tr>\n",
       "    <tr>\n",
       "      <th>5</th>\n",
       "      <td>1577943082</td>\n",
       "      <td>0</td>\n",
       "      <td>[   |Books[283155]|Subjects[1000]|Religion &amp; S...</td>\n",
       "      <td>0</td>\n",
       "      <td>Book</td>\n",
       "      <td>[]</td>\n",
       "      <td>455160</td>\n",
       "      <td>Prayers That Avail Much for Business: Executive</td>\n",
       "      <td>0</td>\n",
       "    </tr>\n",
       "    <tr>\n",
       "      <th>6</th>\n",
       "      <td>0486220125</td>\n",
       "      <td>4</td>\n",
       "      <td>[   |Books[283155]|Subjects[1000]|Arts &amp; Photo...</td>\n",
       "      <td>17</td>\n",
       "      <td>Book</td>\n",
       "      <td>[    1997-7-4  cutomer:  ATVPDKIKX0DER  rating...</td>\n",
       "      <td>188784</td>\n",
       "      <td>How the Other Half Lives: Studies Among the T...</td>\n",
       "      <td>17</td>\n",
       "    </tr>\n",
       "  </tbody>\n",
       "</table>\n",
       "</div>"
      ],
      "text/plain": [
       "          ASIN avg_rating                                         categories  \\\n",
       "2   0738700797        4.5  [   |Books[283155]|Subjects[1000]|Religion & S...   \n",
       "3   0486287785          5  [   |Books[283155]|Subjects[1000]|Home & Garde...   \n",
       "4   0842328327          4  [   |Books[283155]|Subjects[1000]|Religion & S...   \n",
       "5   1577943082          0  [   |Books[283155]|Subjects[1000]|Religion & S...   \n",
       "6   0486220125          4  [   |Books[283155]|Subjects[1000]|Arts & Photo...   \n",
       "\n",
       "  downloads  group                                            reviews  \\\n",
       "2      12     Book  [    2001-12-16  cutomer: A11NCO6YTE4BTJ  rati...   \n",
       "3       1     Book  [    2003-7-10  cutomer: A3IDGASRQAW8B2  ratin...   \n",
       "4       1     Book  [    2004-8-19  cutomer: A2591BUPXCS705  ratin...   \n",
       "5       0     Book                                                 []   \n",
       "6      17     Book  [    1997-7-4  cutomer:  ATVPDKIKX0DER  rating...   \n",
       "\n",
       "  salesrank                                              title total_reviews  \n",
       "2    168596                         Candlemas: Feast of Flames          12    \n",
       "3   1270652   World War II Allied Fighter Planes Trading Cards           1    \n",
       "4    631289   Life Application Bible Commentary: 1 and 2 Ti...           1    \n",
       "5    455160    Prayers That Avail Much for Business: Executive           0    \n",
       "6    188784   How the Other Half Lives: Studies Among the T...          17    "
      ]
     },
     "execution_count": 6,
     "metadata": {},
     "output_type": "execute_result"
    }
   ],
   "source": [
    "df.iloc[2:7]['txt'].map(lambda x:split_parts(x)).apply(pd.Series)"
   ]
  },
  {
   "cell_type": "code",
   "execution_count": 7,
   "metadata": {
    "scrolled": false
   },
   "outputs": [],
   "source": [
    "df_reviews=df['txt'].map(lambda x:split_parts(x)).apply(pd.Series)"
   ]
  },
  {
   "cell_type": "code",
   "execution_count": 8,
   "metadata": {},
   "outputs": [
    {
     "data": {
      "text/html": [
       "<div>\n",
       "<style>\n",
       "    .dataframe thead tr:only-child th {\n",
       "        text-align: right;\n",
       "    }\n",
       "\n",
       "    .dataframe thead th {\n",
       "        text-align: left;\n",
       "    }\n",
       "\n",
       "    .dataframe tbody tr th {\n",
       "        vertical-align: top;\n",
       "    }\n",
       "</style>\n",
       "<table border=\"1\" class=\"dataframe\">\n",
       "  <thead>\n",
       "    <tr style=\"text-align: right;\">\n",
       "      <th></th>\n",
       "      <th>ASIN</th>\n",
       "      <th>avg_rating</th>\n",
       "      <th>categories</th>\n",
       "      <th>downloads</th>\n",
       "      <th>group</th>\n",
       "      <th>reviews</th>\n",
       "      <th>salesrank</th>\n",
       "      <th>title</th>\n",
       "      <th>total_reviews</th>\n",
       "    </tr>\n",
       "  </thead>\n",
       "  <tbody>\n",
       "    <tr>\n",
       "      <th>0</th>\n",
       "      <td>0771044445</td>\n",
       "      <td>NaN</td>\n",
       "      <td>NaN</td>\n",
       "      <td>NaN</td>\n",
       "      <td>NaN</td>\n",
       "      <td>NaN</td>\n",
       "      <td>NaN</td>\n",
       "      <td>NaN</td>\n",
       "      <td>NaN</td>\n",
       "    </tr>\n",
       "    <tr>\n",
       "      <th>1</th>\n",
       "      <td>0827229534</td>\n",
       "      <td>5</td>\n",
       "      <td>[   |Books[283155]|Subjects[1000]|Religion &amp; S...</td>\n",
       "      <td>2</td>\n",
       "      <td>Book</td>\n",
       "      <td>[    2000-7-28  cutomer: A2JW67OY8U6HHK  ratin...</td>\n",
       "      <td>396585</td>\n",
       "      <td>Patterns of Preaching: A Sermon Sampler</td>\n",
       "      <td>2</td>\n",
       "    </tr>\n",
       "    <tr>\n",
       "      <th>2</th>\n",
       "      <td>0738700797</td>\n",
       "      <td>4.5</td>\n",
       "      <td>[   |Books[283155]|Subjects[1000]|Religion &amp; S...</td>\n",
       "      <td>12</td>\n",
       "      <td>Book</td>\n",
       "      <td>[    2001-12-16  cutomer: A11NCO6YTE4BTJ  rati...</td>\n",
       "      <td>168596</td>\n",
       "      <td>Candlemas: Feast of Flames</td>\n",
       "      <td>12</td>\n",
       "    </tr>\n",
       "  </tbody>\n",
       "</table>\n",
       "</div>"
      ],
      "text/plain": [
       "          ASIN avg_rating                                         categories  \\\n",
       "0   0771044445        NaN                                                NaN   \n",
       "1   0827229534          5  [   |Books[283155]|Subjects[1000]|Religion & S...   \n",
       "2   0738700797        4.5  [   |Books[283155]|Subjects[1000]|Religion & S...   \n",
       "\n",
       "  downloads  group                                            reviews  \\\n",
       "0       NaN    NaN                                                NaN   \n",
       "1       2     Book  [    2000-7-28  cutomer: A2JW67OY8U6HHK  ratin...   \n",
       "2      12     Book  [    2001-12-16  cutomer: A11NCO6YTE4BTJ  rati...   \n",
       "\n",
       "  salesrank                                     title total_reviews  \n",
       "0       NaN                                       NaN           NaN  \n",
       "1    396585   Patterns of Preaching: A Sermon Sampler           2    \n",
       "2    168596                Candlemas: Feast of Flames          12    "
      ]
     },
     "execution_count": 8,
     "metadata": {},
     "output_type": "execute_result"
    }
   ],
   "source": [
    "df_reviews.head(3)"
   ]
  },
  {
   "cell_type": "code",
   "execution_count": 9,
   "metadata": {},
   "outputs": [
    {
     "data": {
      "text/plain": [
       "5872"
      ]
     },
     "execution_count": 9,
     "metadata": {},
     "output_type": "execute_result"
    }
   ],
   "source": [
    "#reviews with Null rating are discontinued products\n",
    "len(df_reviews[df_reviews.avg_rating.isnull()])"
   ]
  },
  {
   "cell_type": "code",
   "execution_count": 10,
   "metadata": {},
   "outputs": [
    {
     "data": {
      "text/html": [
       "<div>\n",
       "<style>\n",
       "    .dataframe thead tr:only-child th {\n",
       "        text-align: right;\n",
       "    }\n",
       "\n",
       "    .dataframe thead th {\n",
       "        text-align: left;\n",
       "    }\n",
       "\n",
       "    .dataframe tbody tr th {\n",
       "        vertical-align: top;\n",
       "    }\n",
       "</style>\n",
       "<table border=\"1\" class=\"dataframe\">\n",
       "  <thead>\n",
       "    <tr style=\"text-align: right;\">\n",
       "      <th></th>\n",
       "      <th>ASIN</th>\n",
       "      <th>avg_rating</th>\n",
       "      <th>categories</th>\n",
       "      <th>downloads</th>\n",
       "      <th>group</th>\n",
       "      <th>reviews</th>\n",
       "      <th>salesrank</th>\n",
       "      <th>title</th>\n",
       "      <th>total_reviews</th>\n",
       "    </tr>\n",
       "  </thead>\n",
       "  <tbody>\n",
       "    <tr>\n",
       "      <th>0</th>\n",
       "      <td>0771044445</td>\n",
       "      <td>NaN</td>\n",
       "      <td>NaN</td>\n",
       "      <td>NaN</td>\n",
       "      <td>NaN</td>\n",
       "      <td>NaN</td>\n",
       "      <td>NaN</td>\n",
       "      <td>NaN</td>\n",
       "      <td>NaN</td>\n",
       "    </tr>\n",
       "    <tr>\n",
       "      <th>298</th>\n",
       "      <td>1892866315</td>\n",
       "      <td>NaN</td>\n",
       "      <td>NaN</td>\n",
       "      <td>NaN</td>\n",
       "      <td>NaN</td>\n",
       "      <td>NaN</td>\n",
       "      <td>NaN</td>\n",
       "      <td>NaN</td>\n",
       "      <td>NaN</td>\n",
       "    </tr>\n",
       "    <tr>\n",
       "      <th>355</th>\n",
       "      <td>B00004TAU6</td>\n",
       "      <td>NaN</td>\n",
       "      <td>NaN</td>\n",
       "      <td>NaN</td>\n",
       "      <td>NaN</td>\n",
       "      <td>NaN</td>\n",
       "      <td>NaN</td>\n",
       "      <td>NaN</td>\n",
       "      <td>NaN</td>\n",
       "    </tr>\n",
       "  </tbody>\n",
       "</table>\n",
       "</div>"
      ],
      "text/plain": [
       "            ASIN avg_rating categories downloads group reviews salesrank  \\\n",
       "0     0771044445        NaN        NaN       NaN   NaN     NaN       NaN   \n",
       "298   1892866315        NaN        NaN       NaN   NaN     NaN       NaN   \n",
       "355   B00004TAU6        NaN        NaN       NaN   NaN     NaN       NaN   \n",
       "\n",
       "    title total_reviews  \n",
       "0     NaN           NaN  \n",
       "298   NaN           NaN  \n",
       "355   NaN           NaN  "
      ]
     },
     "execution_count": 10,
     "metadata": {},
     "output_type": "execute_result"
    }
   ],
   "source": [
    "df_reviews[df_reviews.avg_rating.isnull()].head(3)"
   ]
  },
  {
   "cell_type": "code",
   "execution_count": 11,
   "metadata": {
    "collapsed": true
   },
   "outputs": [],
   "source": [
    "#exclude discont products\n",
    "df_reviews=df_reviews[~df_reviews.avg_rating.isnull()]"
   ]
  },
  {
   "cell_type": "code",
   "execution_count": 12,
   "metadata": {},
   "outputs": [
    {
     "data": {
      "text/plain": [
       "542684"
      ]
     },
     "execution_count": 12,
     "metadata": {},
     "output_type": "execute_result"
    }
   ],
   "source": [
    "len(df_reviews)"
   ]
  },
  {
   "cell_type": "code",
   "execution_count": 13,
   "metadata": {},
   "outputs": [
    {
     "data": {
      "text/plain": [
       "array([' Book', ' Music', ' DVD', ' Video', ' Toy', ' Video Games',\n",
       "       ' Software', ' Baby Product', ' CE', ' Sports'], dtype=object)"
      ]
     },
     "execution_count": 13,
     "metadata": {},
     "output_type": "execute_result"
    }
   ],
   "source": [
    "df_reviews.group.unique()"
   ]
  },
  {
   "cell_type": "code",
   "execution_count": 14,
   "metadata": {},
   "outputs": [
    {
     "data": {
      "text/plain": [
       "group\n",
       " Baby Product         1\n",
       " Book            393561\n",
       " CE                   4\n",
       " DVD              19828\n",
       " Music           103144\n",
       " Software             5\n",
       " Sports               1\n",
       " Toy                  8\n",
       " Video            26131\n",
       " Video Games          1\n",
       "dtype: int64"
      ]
     },
     "execution_count": 14,
     "metadata": {},
     "output_type": "execute_result"
    }
   ],
   "source": [
    "df_reviews[['group','avg_rating']].groupby('group').size()"
   ]
  },
  {
   "cell_type": "code",
   "execution_count": 15,
   "metadata": {
    "collapsed": true
   },
   "outputs": [],
   "source": [
    "valid_group=[' Book', ' Music', ' DVD', ' Video']"
   ]
  },
  {
   "cell_type": "code",
   "execution_count": 16,
   "metadata": {},
   "outputs": [],
   "source": [
    "#include only reviews for Books, Music, DVD and Video\n",
    "df_reviews=df_reviews[df_reviews.group.isin(valid_group)]"
   ]
  },
  {
   "cell_type": "code",
   "execution_count": 17,
   "metadata": {},
   "outputs": [],
   "source": [
    "df_reviews['avg_rating']=df_reviews['avg_rating'].str.strip().astype(float)"
   ]
  },
  {
   "cell_type": "code",
   "execution_count": 18,
   "metadata": {},
   "outputs": [
    {
     "data": {
      "text/plain": [
       "0"
      ]
     },
     "execution_count": 18,
     "metadata": {},
     "output_type": "execute_result"
    }
   ],
   "source": [
    "df_reviews['salesrank'].isnull().sum()"
   ]
  },
  {
   "cell_type": "code",
   "execution_count": 19,
   "metadata": {},
   "outputs": [],
   "source": [
    "df_reviews['salesrank']=df_reviews['salesrank'].astype(int)"
   ]
  },
  {
   "cell_type": "code",
   "execution_count": 20,
   "metadata": {},
   "outputs": [
    {
     "data": {
      "text/plain": [
       "0"
      ]
     },
     "execution_count": 20,
     "metadata": {},
     "output_type": "execute_result"
    }
   ],
   "source": [
    "df_reviews['total_reviews'].isnull().sum()"
   ]
  },
  {
   "cell_type": "code",
   "execution_count": 21,
   "metadata": {},
   "outputs": [],
   "source": [
    "df_reviews['total_reviews']=df_reviews['total_reviews'].astype(int)"
   ]
  },
  {
   "cell_type": "code",
   "execution_count": 22,
   "metadata": {},
   "outputs": [
    {
     "data": {
      "text/plain": [
       "group\n",
       " Book     3.051148\n",
       " DVD      3.670996\n",
       " Music    3.635529\n",
       " Video    3.563105\n",
       "Name: avg_rating, dtype: float64"
      ]
     },
     "execution_count": 22,
     "metadata": {},
     "output_type": "execute_result"
    }
   ],
   "source": [
    "df_reviews[['group','avg_rating']].groupby('group')['avg_rating'].mean()"
   ]
  },
  {
   "cell_type": "code",
   "execution_count": 23,
   "metadata": {},
   "outputs": [
    {
     "data": {
      "text/html": [
       "<div>\n",
       "<style>\n",
       "    .dataframe thead tr:only-child th {\n",
       "        text-align: right;\n",
       "    }\n",
       "\n",
       "    .dataframe thead th {\n",
       "        text-align: left;\n",
       "    }\n",
       "\n",
       "    .dataframe tbody tr th {\n",
       "        vertical-align: top;\n",
       "    }\n",
       "</style>\n",
       "<table border=\"1\" class=\"dataframe\">\n",
       "  <thead>\n",
       "    <tr style=\"text-align: right;\">\n",
       "      <th></th>\n",
       "      <th>avg_rating</th>\n",
       "      <th>salesrank</th>\n",
       "      <th>total_reviews</th>\n",
       "    </tr>\n",
       "  </thead>\n",
       "  <tbody>\n",
       "    <tr>\n",
       "      <th>count</th>\n",
       "      <td>393561.000000</td>\n",
       "      <td>3.935610e+05</td>\n",
       "      <td>393561.000000</td>\n",
       "    </tr>\n",
       "    <tr>\n",
       "      <th>mean</th>\n",
       "      <td>3.051148</td>\n",
       "      <td>6.309069e+05</td>\n",
       "      <td>11.961508</td>\n",
       "    </tr>\n",
       "    <tr>\n",
       "      <th>std</th>\n",
       "      <td>2.064086</td>\n",
       "      <td>6.044099e+05</td>\n",
       "      <td>72.982704</td>\n",
       "    </tr>\n",
       "    <tr>\n",
       "      <th>min</th>\n",
       "      <td>0.000000</td>\n",
       "      <td>-1.000000e+00</td>\n",
       "      <td>0.000000</td>\n",
       "    </tr>\n",
       "    <tr>\n",
       "      <th>25%</th>\n",
       "      <td>0.000000</td>\n",
       "      <td>2.034870e+05</td>\n",
       "      <td>0.000000</td>\n",
       "    </tr>\n",
       "    <tr>\n",
       "      <th>50%</th>\n",
       "      <td>4.000000</td>\n",
       "      <td>4.672210e+05</td>\n",
       "      <td>2.000000</td>\n",
       "    </tr>\n",
       "    <tr>\n",
       "      <th>75%</th>\n",
       "      <td>5.000000</td>\n",
       "      <td>8.545130e+05</td>\n",
       "      <td>6.000000</td>\n",
       "    </tr>\n",
       "    <tr>\n",
       "      <th>max</th>\n",
       "      <td>5.000000</td>\n",
       "      <td>3.798351e+06</td>\n",
       "      <td>5545.000000</td>\n",
       "    </tr>\n",
       "  </tbody>\n",
       "</table>\n",
       "</div>"
      ],
      "text/plain": [
       "          avg_rating     salesrank  total_reviews\n",
       "count  393561.000000  3.935610e+05  393561.000000\n",
       "mean        3.051148  6.309069e+05      11.961508\n",
       "std         2.064086  6.044099e+05      72.982704\n",
       "min         0.000000 -1.000000e+00       0.000000\n",
       "25%         0.000000  2.034870e+05       0.000000\n",
       "50%         4.000000  4.672210e+05       2.000000\n",
       "75%         5.000000  8.545130e+05       6.000000\n",
       "max         5.000000  3.798351e+06    5545.000000"
      ]
     },
     "execution_count": 23,
     "metadata": {},
     "output_type": "execute_result"
    }
   ],
   "source": [
    "df_reviews[df_reviews.group.str.strip()=='Book'].describe()"
   ]
  },
  {
   "cell_type": "code",
   "execution_count": 24,
   "metadata": {},
   "outputs": [
    {
     "data": {
      "text/plain": [
       "459"
      ]
     },
     "execution_count": 24,
     "metadata": {},
     "output_type": "execute_result"
    }
   ],
   "source": [
    "#salesrank < 1 - probable error in the data\n",
    "len(df_reviews[df_reviews.salesrank<0])"
   ]
  },
  {
   "cell_type": "code",
   "execution_count": 25,
   "metadata": {
    "collapsed": true
   },
   "outputs": [],
   "source": [
    "#remove the rows with salesrank <-1\n",
    "df_reviews = df_reviews[~(df_reviews.salesrank<0)]"
   ]
  },
  {
   "cell_type": "code",
   "execution_count": 26,
   "metadata": {},
   "outputs": [
    {
     "data": {
      "text/plain": [
       "542205"
      ]
     },
     "execution_count": 26,
     "metadata": {},
     "output_type": "execute_result"
    }
   ],
   "source": [
    "len(df_reviews)"
   ]
  },
  {
   "cell_type": "code",
   "execution_count": 27,
   "metadata": {},
   "outputs": [
    {
     "data": {
      "text/html": [
       "<div>\n",
       "<style>\n",
       "    .dataframe thead tr:only-child th {\n",
       "        text-align: right;\n",
       "    }\n",
       "\n",
       "    .dataframe thead th {\n",
       "        text-align: left;\n",
       "    }\n",
       "\n",
       "    .dataframe tbody tr th {\n",
       "        vertical-align: top;\n",
       "    }\n",
       "</style>\n",
       "<table border=\"1\" class=\"dataframe\">\n",
       "  <thead>\n",
       "    <tr style=\"text-align: right;\">\n",
       "      <th></th>\n",
       "      <th>avg_rating</th>\n",
       "      <th>salesrank</th>\n",
       "      <th>total_reviews</th>\n",
       "    </tr>\n",
       "  </thead>\n",
       "  <tbody>\n",
       "    <tr>\n",
       "      <th>count</th>\n",
       "      <td>393188.000000</td>\n",
       "      <td>3.931880e+05</td>\n",
       "      <td>393188.000000</td>\n",
       "    </tr>\n",
       "    <tr>\n",
       "      <th>mean</th>\n",
       "      <td>3.053833</td>\n",
       "      <td>6.315054e+05</td>\n",
       "      <td>11.972535</td>\n",
       "    </tr>\n",
       "    <tr>\n",
       "      <th>std</th>\n",
       "      <td>2.063006</td>\n",
       "      <td>6.043839e+05</td>\n",
       "      <td>73.016366</td>\n",
       "    </tr>\n",
       "    <tr>\n",
       "      <th>min</th>\n",
       "      <td>0.000000</td>\n",
       "      <td>0.000000e+00</td>\n",
       "      <td>0.000000</td>\n",
       "    </tr>\n",
       "    <tr>\n",
       "      <th>25%</th>\n",
       "      <td>0.000000</td>\n",
       "      <td>2.041775e+05</td>\n",
       "      <td>0.000000</td>\n",
       "    </tr>\n",
       "    <tr>\n",
       "      <th>50%</th>\n",
       "      <td>4.000000</td>\n",
       "      <td>4.677850e+05</td>\n",
       "      <td>2.000000</td>\n",
       "    </tr>\n",
       "    <tr>\n",
       "      <th>75%</th>\n",
       "      <td>5.000000</td>\n",
       "      <td>8.550255e+05</td>\n",
       "      <td>6.000000</td>\n",
       "    </tr>\n",
       "    <tr>\n",
       "      <th>max</th>\n",
       "      <td>5.000000</td>\n",
       "      <td>3.798351e+06</td>\n",
       "      <td>5545.000000</td>\n",
       "    </tr>\n",
       "  </tbody>\n",
       "</table>\n",
       "</div>"
      ],
      "text/plain": [
       "          avg_rating     salesrank  total_reviews\n",
       "count  393188.000000  3.931880e+05  393188.000000\n",
       "mean        3.053833  6.315054e+05      11.972535\n",
       "std         2.063006  6.043839e+05      73.016366\n",
       "min         0.000000  0.000000e+00       0.000000\n",
       "25%         0.000000  2.041775e+05       0.000000\n",
       "50%         4.000000  4.677850e+05       2.000000\n",
       "75%         5.000000  8.550255e+05       6.000000\n",
       "max         5.000000  3.798351e+06    5545.000000"
      ]
     },
     "execution_count": 27,
     "metadata": {},
     "output_type": "execute_result"
    }
   ],
   "source": [
    "#let us look at the data for books\n",
    "df_reviews[df_reviews.group.str.strip()=='Book'].describe()"
   ]
  },
  {
   "cell_type": "code",
   "execution_count": 28,
   "metadata": {},
   "outputs": [
    {
     "data": {
      "text/html": [
       "<div>\n",
       "<style>\n",
       "    .dataframe thead tr:only-child th {\n",
       "        text-align: right;\n",
       "    }\n",
       "\n",
       "    .dataframe thead th {\n",
       "        text-align: left;\n",
       "    }\n",
       "\n",
       "    .dataframe tbody tr th {\n",
       "        vertical-align: top;\n",
       "    }\n",
       "</style>\n",
       "<table border=\"1\" class=\"dataframe\">\n",
       "  <thead>\n",
       "    <tr style=\"text-align: right;\">\n",
       "      <th></th>\n",
       "      <th>avg_rating</th>\n",
       "      <th>salesrank</th>\n",
       "      <th>total_reviews</th>\n",
       "    </tr>\n",
       "  </thead>\n",
       "  <tbody>\n",
       "    <tr>\n",
       "      <th>count</th>\n",
       "      <td>103062.000000</td>\n",
       "      <td>103062.000000</td>\n",
       "      <td>103062.000000</td>\n",
       "    </tr>\n",
       "    <tr>\n",
       "      <th>mean</th>\n",
       "      <td>3.637912</td>\n",
       "      <td>154425.635821</td>\n",
       "      <td>13.695688</td>\n",
       "    </tr>\n",
       "    <tr>\n",
       "      <th>std</th>\n",
       "      <td>1.839896</td>\n",
       "      <td>135983.853605</td>\n",
       "      <td>55.135060</td>\n",
       "    </tr>\n",
       "    <tr>\n",
       "      <th>min</th>\n",
       "      <td>0.000000</td>\n",
       "      <td>0.000000</td>\n",
       "      <td>0.000000</td>\n",
       "    </tr>\n",
       "    <tr>\n",
       "      <th>25%</th>\n",
       "      <td>3.500000</td>\n",
       "      <td>48816.500000</td>\n",
       "      <td>1.000000</td>\n",
       "    </tr>\n",
       "    <tr>\n",
       "      <th>50%</th>\n",
       "      <td>4.500000</td>\n",
       "      <td>116133.500000</td>\n",
       "      <td>3.000000</td>\n",
       "    </tr>\n",
       "    <tr>\n",
       "      <th>75%</th>\n",
       "      <td>5.000000</td>\n",
       "      <td>223707.750000</td>\n",
       "      <td>9.000000</td>\n",
       "    </tr>\n",
       "    <tr>\n",
       "      <th>max</th>\n",
       "      <td>5.000000</td>\n",
       "      <td>671027.000000</td>\n",
       "      <td>3839.000000</td>\n",
       "    </tr>\n",
       "  </tbody>\n",
       "</table>\n",
       "</div>"
      ],
      "text/plain": [
       "          avg_rating      salesrank  total_reviews\n",
       "count  103062.000000  103062.000000  103062.000000\n",
       "mean        3.637912  154425.635821      13.695688\n",
       "std         1.839896  135983.853605      55.135060\n",
       "min         0.000000       0.000000       0.000000\n",
       "25%         3.500000   48816.500000       1.000000\n",
       "50%         4.500000  116133.500000       3.000000\n",
       "75%         5.000000  223707.750000       9.000000\n",
       "max         5.000000  671027.000000    3839.000000"
      ]
     },
     "execution_count": 28,
     "metadata": {},
     "output_type": "execute_result"
    }
   ],
   "source": [
    "#let us look at the data for Music\n",
    "df_reviews[df_reviews.group==' Music'].describe()"
   ]
  },
  {
   "cell_type": "code",
   "execution_count": 29,
   "metadata": {},
   "outputs": [
    {
     "data": {
      "text/html": [
       "<div>\n",
       "<style>\n",
       "    .dataframe thead tr:only-child th {\n",
       "        text-align: right;\n",
       "    }\n",
       "\n",
       "    .dataframe thead th {\n",
       "        text-align: left;\n",
       "    }\n",
       "\n",
       "    .dataframe tbody tr th {\n",
       "        vertical-align: top;\n",
       "    }\n",
       "</style>\n",
       "<table border=\"1\" class=\"dataframe\">\n",
       "  <thead>\n",
       "    <tr style=\"text-align: right;\">\n",
       "      <th></th>\n",
       "      <th>ASIN</th>\n",
       "      <th>avg_rating</th>\n",
       "      <th>categories</th>\n",
       "      <th>downloads</th>\n",
       "      <th>group</th>\n",
       "      <th>reviews</th>\n",
       "      <th>salesrank</th>\n",
       "      <th>title</th>\n",
       "      <th>total_reviews</th>\n",
       "    </tr>\n",
       "  </thead>\n",
       "  <tbody>\n",
       "    <tr>\n",
       "      <th>28339</th>\n",
       "      <td>6301627024</td>\n",
       "      <td>5.0</td>\n",
       "      <td>[   |[139452]|VHS[404272]|Actors &amp; Actresses[1...</td>\n",
       "      <td>64</td>\n",
       "      <td>Video</td>\n",
       "      <td>[    1999-1-16  cutomer:  AFOOFG7PGFAP3  ratin...</td>\n",
       "      <td>2</td>\n",
       "      <td>Shirley Valentine</td>\n",
       "      <td>64</td>\n",
       "    </tr>\n",
       "    <tr>\n",
       "      <th>113500</th>\n",
       "      <td>B00005T33H</td>\n",
       "      <td>4.5</td>\n",
       "      <td>[   |[139452]|VHS[404272]|Actors &amp; Actresses[1...</td>\n",
       "      <td>102</td>\n",
       "      <td>Video</td>\n",
       "      <td>[    2002-1-22  cutomer:  AIK3FLGJGDPN6  ratin...</td>\n",
       "      <td>6</td>\n",
       "      <td>Leslie Sansone - Walk Away the Pounds - Super...</td>\n",
       "      <td>102</td>\n",
       "    </tr>\n",
       "    <tr>\n",
       "      <th>297446</th>\n",
       "      <td>6300215539</td>\n",
       "      <td>4.0</td>\n",
       "      <td>[   |[139452]|VHS[404272]|Actors &amp; Actresses[1...</td>\n",
       "      <td>125</td>\n",
       "      <td>Video</td>\n",
       "      <td>[    1998-12-29  cutomer: A3SHWOHGEAOQZE  rati...</td>\n",
       "      <td>1</td>\n",
       "      <td>The War of the Worlds</td>\n",
       "      <td>126</td>\n",
       "    </tr>\n",
       "    <tr>\n",
       "      <th>334786</th>\n",
       "      <td>6302946387</td>\n",
       "      <td>4.5</td>\n",
       "      <td>[   |[139452]|VHS[404272]|Actors &amp; Actresses[1...</td>\n",
       "      <td>136</td>\n",
       "      <td>Video</td>\n",
       "      <td>[    1998-12-12  cutomer:  ATVPDKIKX0DER  rati...</td>\n",
       "      <td>7</td>\n",
       "      <td>Robin Hood - Men in Tights</td>\n",
       "      <td>136</td>\n",
       "    </tr>\n",
       "    <tr>\n",
       "      <th>486687</th>\n",
       "      <td>6301729897</td>\n",
       "      <td>4.0</td>\n",
       "      <td>[   |[139452]|VHS[404272]|Genres[404274]|Fitne...</td>\n",
       "      <td>40</td>\n",
       "      <td>Video</td>\n",
       "      <td>[    1998-11-2  cutomer:  ATVPDKIKX0DER  ratin...</td>\n",
       "      <td>8</td>\n",
       "      <td>Richard Simmons - Sweatin' to the Oldies</td>\n",
       "      <td>40</td>\n",
       "    </tr>\n",
       "  </tbody>\n",
       "</table>\n",
       "</div>"
      ],
      "text/plain": [
       "               ASIN  avg_rating  \\\n",
       "28339    6301627024         5.0   \n",
       "113500   B00005T33H         4.5   \n",
       "297446   6300215539         4.0   \n",
       "334786   6302946387         4.5   \n",
       "486687   6301729897         4.0   \n",
       "\n",
       "                                               categories downloads   group  \\\n",
       "28339   [   |[139452]|VHS[404272]|Actors & Actresses[1...      64     Video   \n",
       "113500  [   |[139452]|VHS[404272]|Actors & Actresses[1...     102     Video   \n",
       "297446  [   |[139452]|VHS[404272]|Actors & Actresses[1...     125     Video   \n",
       "334786  [   |[139452]|VHS[404272]|Actors & Actresses[1...     136     Video   \n",
       "486687  [   |[139452]|VHS[404272]|Genres[404274]|Fitne...      40     Video   \n",
       "\n",
       "                                                  reviews  salesrank  \\\n",
       "28339   [    1999-1-16  cutomer:  AFOOFG7PGFAP3  ratin...          2   \n",
       "113500  [    2002-1-22  cutomer:  AIK3FLGJGDPN6  ratin...          6   \n",
       "297446  [    1998-12-29  cutomer: A3SHWOHGEAOQZE  rati...          1   \n",
       "334786  [    1998-12-12  cutomer:  ATVPDKIKX0DER  rati...          7   \n",
       "486687  [    1998-11-2  cutomer:  ATVPDKIKX0DER  ratin...          8   \n",
       "\n",
       "                                                    title  total_reviews  \n",
       "28339                                   Shirley Valentine             64  \n",
       "113500   Leslie Sansone - Walk Away the Pounds - Super...            102  \n",
       "297446                              The War of the Worlds            126  \n",
       "334786                         Robin Hood - Men in Tights            136  \n",
       "486687           Richard Simmons - Sweatin' to the Oldies             40  "
      ]
     },
     "execution_count": 29,
     "metadata": {},
     "output_type": "execute_result"
    }
   ],
   "source": [
    "df_reviews[(df_reviews.salesrank>0) & (df_reviews.salesrank<11)]"
   ]
  },
  {
   "cell_type": "code",
   "execution_count": 30,
   "metadata": {},
   "outputs": [],
   "source": [
    "book_review_df=df_reviews[df_reviews.group==' Book']"
   ]
  },
  {
   "cell_type": "code",
   "execution_count": 31,
   "metadata": {},
   "outputs": [
    {
     "data": {
      "text/plain": [
       "393188"
      ]
     },
     "execution_count": 31,
     "metadata": {},
     "output_type": "execute_result"
    }
   ],
   "source": [
    "len(book_review_df)"
   ]
  },
  {
   "cell_type": "code",
   "execution_count": 32,
   "metadata": {
    "collapsed": true
   },
   "outputs": [],
   "source": [
    "music_review_df=df_reviews[df_reviews.group==' Music']"
   ]
  },
  {
   "cell_type": "code",
   "execution_count": 33,
   "metadata": {},
   "outputs": [
    {
     "data": {
      "text/plain": [
       "103062"
      ]
     },
     "execution_count": 33,
     "metadata": {},
     "output_type": "execute_result"
    }
   ],
   "source": [
    "len(music_review_df)"
   ]
  },
  {
   "cell_type": "code",
   "execution_count": 34,
   "metadata": {
    "collapsed": true
   },
   "outputs": [],
   "source": [
    "dvd_review_df=df_reviews[df_reviews.group==' DVD']"
   ]
  },
  {
   "cell_type": "code",
   "execution_count": 35,
   "metadata": {},
   "outputs": [
    {
     "data": {
      "text/plain": [
       "19826"
      ]
     },
     "execution_count": 35,
     "metadata": {},
     "output_type": "execute_result"
    }
   ],
   "source": [
    "len(dvd_review_df)"
   ]
  },
  {
   "cell_type": "code",
   "execution_count": 36,
   "metadata": {
    "collapsed": true
   },
   "outputs": [],
   "source": [
    "video_review_df=df_reviews[df_reviews.group==' Video']"
   ]
  },
  {
   "cell_type": "code",
   "execution_count": 37,
   "metadata": {},
   "outputs": [
    {
     "data": {
      "text/plain": [
       "26129"
      ]
     },
     "execution_count": 37,
     "metadata": {},
     "output_type": "execute_result"
    }
   ],
   "source": [
    "len(video_review_df)"
   ]
  },
  {
   "cell_type": "markdown",
   "metadata": {},
   "source": [
    "### Trustworthiness of ratings\n",
    "_Ratings are susceptible to manipulation, bias etc. What can you say (quantitatively speaking) about the ratings in this dataset?_\n",
    "\n",
    "From the given data, we can say that the rating of a product is not trustworthy if there are unusually high number of positive reviews that do not correspond to a high salesrank.\n",
    "\n"
   ]
  },
  {
   "cell_type": "code",
   "execution_count": 38,
   "metadata": {},
   "outputs": [
    {
     "data": {
      "image/png": "[encoded data removed]",
      "text/plain": [
       "<matplotlib.figure.Figure at 0x15ffaa1ae10>"
      ]
     },
     "metadata": {},
     "output_type": "display_data"
    }
   ],
   "source": [
    "sns.jointplot(book_review_df['salesrank'], book_review_df['avg_rating'],  kind=\"reg\", color=\"b\", size=10)\n",
    "#plt.savefig('actor1_corr.jpg')\n",
    "plt.show()"
   ]
  },
  {
   "cell_type": "markdown",
   "metadata": {},
   "source": [
    "From the above we see that there is a strong correlation between the salesrank and the average rating. From this, we can reasonably say that if an item ranks very low in the salesrank (i.e. has a high absolute value or sells very less compared to other items) but has an unusually high rating, it could be something to investigate"
   ]
  },
  {
   "cell_type": "code",
   "execution_count": 39,
   "metadata": {},
   "outputs": [
    {
     "data": {
      "text/html": [
       "<div>\n",
       "<style>\n",
       "    .dataframe thead tr:only-child th {\n",
       "        text-align: right;\n",
       "    }\n",
       "\n",
       "    .dataframe thead th {\n",
       "        text-align: left;\n",
       "    }\n",
       "\n",
       "    .dataframe tbody tr th {\n",
       "        vertical-align: top;\n",
       "    }\n",
       "</style>\n",
       "<table border=\"1\" class=\"dataframe\">\n",
       "  <thead>\n",
       "    <tr style=\"text-align: right;\">\n",
       "      <th></th>\n",
       "      <th>title</th>\n",
       "      <th>salesrank</th>\n",
       "      <th>total_reviews</th>\n",
       "      <th>avg_rating</th>\n",
       "    </tr>\n",
       "  </thead>\n",
       "  <tbody>\n",
       "    <tr>\n",
       "      <th>198</th>\n",
       "      <td>Imitation of Christ</td>\n",
       "      <td>933676</td>\n",
       "      <td>39</td>\n",
       "      <td>4.5</td>\n",
       "    </tr>\n",
       "    <tr>\n",
       "      <th>329</th>\n",
       "      <td>James Joyce (Penguin Lives (Audio))</td>\n",
       "      <td>1204592</td>\n",
       "      <td>14</td>\n",
       "      <td>4.5</td>\n",
       "    </tr>\n",
       "    <tr>\n",
       "      <th>481</th>\n",
       "      <td>A Major Case: A Novel by Pete Deer</td>\n",
       "      <td>2860756</td>\n",
       "      <td>14</td>\n",
       "      <td>4.5</td>\n",
       "    </tr>\n",
       "    <tr>\n",
       "      <th>935</th>\n",
       "      <td>Frederick</td>\n",
       "      <td>1035931</td>\n",
       "      <td>19</td>\n",
       "      <td>4.5</td>\n",
       "    </tr>\n",
       "    <tr>\n",
       "      <th>1819</th>\n",
       "      <td>Light House</td>\n",
       "      <td>861412</td>\n",
       "      <td>21</td>\n",
       "      <td>4.0</td>\n",
       "    </tr>\n",
       "    <tr>\n",
       "      <th>1956</th>\n",
       "      <td>Final Blackout</td>\n",
       "      <td>1337368</td>\n",
       "      <td>16</td>\n",
       "      <td>4.0</td>\n",
       "    </tr>\n",
       "    <tr>\n",
       "      <th>2009</th>\n",
       "      <td>Laughter in the Dark (New Directions Paperbook)</td>\n",
       "      <td>1061681</td>\n",
       "      <td>25</td>\n",
       "      <td>4.5</td>\n",
       "    </tr>\n",
       "    <tr>\n",
       "      <th>2014</th>\n",
       "      <td>When I Was Little: A Four Year Old's Memoir o...</td>\n",
       "      <td>1072575</td>\n",
       "      <td>15</td>\n",
       "      <td>4.5</td>\n",
       "    </tr>\n",
       "    <tr>\n",
       "      <th>2384</th>\n",
       "      <td>If I Could</td>\n",
       "      <td>928240</td>\n",
       "      <td>43</td>\n",
       "      <td>4.0</td>\n",
       "    </tr>\n",
       "    <tr>\n",
       "      <th>2685</th>\n",
       "      <td>Animal Farm</td>\n",
       "      <td>1007371</td>\n",
       "      <td>992</td>\n",
       "      <td>4.5</td>\n",
       "    </tr>\n",
       "    <tr>\n",
       "      <th>2701</th>\n",
       "      <td>Holy Bible New Living Translation: Burgundy B...</td>\n",
       "      <td>1151213</td>\n",
       "      <td>32</td>\n",
       "      <td>4.5</td>\n",
       "    </tr>\n",
       "    <tr>\n",
       "      <th>2985</th>\n",
       "      <td>Nudges from God</td>\n",
       "      <td>1042056</td>\n",
       "      <td>12</td>\n",
       "      <td>5.0</td>\n",
       "    </tr>\n",
       "    <tr>\n",
       "      <th>3542</th>\n",
       "      <td>Road to Gandolfo</td>\n",
       "      <td>919045</td>\n",
       "      <td>23</td>\n",
       "      <td>4.0</td>\n",
       "    </tr>\n",
       "    <tr>\n",
       "      <th>3603</th>\n",
       "      <td>3 Nbs of Julian Drew</td>\n",
       "      <td>1371451</td>\n",
       "      <td>17</td>\n",
       "      <td>5.0</td>\n",
       "    </tr>\n",
       "    <tr>\n",
       "      <th>3688</th>\n",
       "      <td>City of God</td>\n",
       "      <td>1333989</td>\n",
       "      <td>26</td>\n",
       "      <td>4.5</td>\n",
       "    </tr>\n",
       "    <tr>\n",
       "      <th>3754</th>\n",
       "      <td>Help Yourself: Celebrating the Rewards of Res...</td>\n",
       "      <td>1774057</td>\n",
       "      <td>29</td>\n",
       "      <td>4.5</td>\n",
       "    </tr>\n",
       "    <tr>\n",
       "      <th>3975</th>\n",
       "      <td>The Waste Land and Other Poems (Penguin Class...</td>\n",
       "      <td>962848</td>\n",
       "      <td>17</td>\n",
       "      <td>4.5</td>\n",
       "    </tr>\n",
       "    <tr>\n",
       "      <th>4233</th>\n",
       "      <td>Investing in the Dream</td>\n",
       "      <td>1436049</td>\n",
       "      <td>13</td>\n",
       "      <td>5.0</td>\n",
       "    </tr>\n",
       "    <tr>\n",
       "      <th>4303</th>\n",
       "      <td>Mistress Pat</td>\n",
       "      <td>1967651</td>\n",
       "      <td>14</td>\n",
       "      <td>4.0</td>\n",
       "    </tr>\n",
       "    <tr>\n",
       "      <th>4315</th>\n",
       "      <td>Forever</td>\n",
       "      <td>1586706</td>\n",
       "      <td>63</td>\n",
       "      <td>4.5</td>\n",
       "    </tr>\n",
       "    <tr>\n",
       "      <th>4476</th>\n",
       "      <td>The Art of Creative Lettering: 50 Amazing New...</td>\n",
       "      <td>965439</td>\n",
       "      <td>29</td>\n",
       "      <td>4.5</td>\n",
       "    </tr>\n",
       "    <tr>\n",
       "      <th>4645</th>\n",
       "      <td>Heaven and Earth (Three Sisters Island Trilogy)</td>\n",
       "      <td>972695</td>\n",
       "      <td>114</td>\n",
       "      <td>4.5</td>\n",
       "    </tr>\n",
       "    <tr>\n",
       "      <th>4654</th>\n",
       "      <td>Keeping Secrets, Telling Lies</td>\n",
       "      <td>1040059</td>\n",
       "      <td>14</td>\n",
       "      <td>4.0</td>\n",
       "    </tr>\n",
       "    <tr>\n",
       "      <th>4666</th>\n",
       "      <td>La Reina Del Sur</td>\n",
       "      <td>1028627</td>\n",
       "      <td>13</td>\n",
       "      <td>5.0</td>\n",
       "    </tr>\n",
       "    <tr>\n",
       "      <th>4728</th>\n",
       "      <td>Tribulation Force (Left Behind, Book 2)</td>\n",
       "      <td>1113061</td>\n",
       "      <td>406</td>\n",
       "      <td>4.0</td>\n",
       "    </tr>\n",
       "    <tr>\n",
       "      <th>4739</th>\n",
       "      <td>Harry Potter and the Goblet of Fire (Book 4)</td>\n",
       "      <td>868892</td>\n",
       "      <td>4921</td>\n",
       "      <td>5.0</td>\n",
       "    </tr>\n",
       "    <tr>\n",
       "      <th>4788</th>\n",
       "      <td>Unraveling the Mystery of the Motivational Gifts</td>\n",
       "      <td>1177402</td>\n",
       "      <td>14</td>\n",
       "      <td>5.0</td>\n",
       "    </tr>\n",
       "    <tr>\n",
       "      <th>5058</th>\n",
       "      <td>Classical Ballet Technique</td>\n",
       "      <td>991968</td>\n",
       "      <td>23</td>\n",
       "      <td>4.5</td>\n",
       "    </tr>\n",
       "    <tr>\n",
       "      <th>5076</th>\n",
       "      <td>All but Alice</td>\n",
       "      <td>1079248</td>\n",
       "      <td>11</td>\n",
       "      <td>4.5</td>\n",
       "    </tr>\n",
       "    <tr>\n",
       "      <th>5298</th>\n",
       "      <td>NY Times on The Sopranos 2002 Edition</td>\n",
       "      <td>1384692</td>\n",
       "      <td>17</td>\n",
       "      <td>4.0</td>\n",
       "    </tr>\n",
       "    <tr>\n",
       "      <th>...</th>\n",
       "      <td>...</td>\n",
       "      <td>...</td>\n",
       "      <td>...</td>\n",
       "      <td>...</td>\n",
       "    </tr>\n",
       "    <tr>\n",
       "      <th>544089</th>\n",
       "      <td>21 Irrefutable Laws Of Leadership</td>\n",
       "      <td>914010</td>\n",
       "      <td>145</td>\n",
       "      <td>4.0</td>\n",
       "    </tr>\n",
       "    <tr>\n",
       "      <th>544132</th>\n",
       "      <td>Soup</td>\n",
       "      <td>874225</td>\n",
       "      <td>12</td>\n",
       "      <td>4.5</td>\n",
       "    </tr>\n",
       "    <tr>\n",
       "      <th>544239</th>\n",
       "      <td>A Passion to Win</td>\n",
       "      <td>941330</td>\n",
       "      <td>22</td>\n",
       "      <td>4.0</td>\n",
       "    </tr>\n",
       "    <tr>\n",
       "      <th>544313</th>\n",
       "      <td>A Cold Day for Murder</td>\n",
       "      <td>888355</td>\n",
       "      <td>13</td>\n",
       "      <td>4.0</td>\n",
       "    </tr>\n",
       "    <tr>\n",
       "      <th>544324</th>\n",
       "      <td>Complete Bible-KJV</td>\n",
       "      <td>1153582</td>\n",
       "      <td>23</td>\n",
       "      <td>4.0</td>\n",
       "    </tr>\n",
       "    <tr>\n",
       "      <th>544334</th>\n",
       "      <td>Scourby KJV  Dramatized Cassette - Complete B...</td>\n",
       "      <td>1629643</td>\n",
       "      <td>23</td>\n",
       "      <td>4.0</td>\n",
       "    </tr>\n",
       "    <tr>\n",
       "      <th>544386</th>\n",
       "      <td>The Black Album (Penguin/Faber Audiobooks)</td>\n",
       "      <td>1525199</td>\n",
       "      <td>14</td>\n",
       "      <td>4.0</td>\n",
       "    </tr>\n",
       "    <tr>\n",
       "      <th>544412</th>\n",
       "      <td>Miss Mapp</td>\n",
       "      <td>1824463</td>\n",
       "      <td>11</td>\n",
       "      <td>4.5</td>\n",
       "    </tr>\n",
       "    <tr>\n",
       "      <th>544729</th>\n",
       "      <td>The Chisellers</td>\n",
       "      <td>855220</td>\n",
       "      <td>20</td>\n",
       "      <td>4.5</td>\n",
       "    </tr>\n",
       "    <tr>\n",
       "      <th>544786</th>\n",
       "      <td>Anne of Green Gables (Junior Classics)</td>\n",
       "      <td>1567157</td>\n",
       "      <td>267</td>\n",
       "      <td>4.5</td>\n",
       "    </tr>\n",
       "    <tr>\n",
       "      <th>544857</th>\n",
       "      <td>Inside Camp X</td>\n",
       "      <td>1627596</td>\n",
       "      <td>16</td>\n",
       "      <td>5.0</td>\n",
       "    </tr>\n",
       "    <tr>\n",
       "      <th>544873</th>\n",
       "      <td>The Nearest Far Away Place: Brian Wilson, the...</td>\n",
       "      <td>1414271</td>\n",
       "      <td>31</td>\n",
       "      <td>4.0</td>\n",
       "    </tr>\n",
       "    <tr>\n",
       "      <th>544876</th>\n",
       "      <td>Density of Souls, A</td>\n",
       "      <td>2638770</td>\n",
       "      <td>330</td>\n",
       "      <td>4.0</td>\n",
       "    </tr>\n",
       "    <tr>\n",
       "      <th>544883</th>\n",
       "      <td>The Great American Sex Diet : Where The Only ...</td>\n",
       "      <td>938990</td>\n",
       "      <td>19</td>\n",
       "      <td>4.5</td>\n",
       "    </tr>\n",
       "    <tr>\n",
       "      <th>544917</th>\n",
       "      <td>Witch Child</td>\n",
       "      <td>1931962</td>\n",
       "      <td>97</td>\n",
       "      <td>4.0</td>\n",
       "    </tr>\n",
       "    <tr>\n",
       "      <th>544921</th>\n",
       "      <td>The Princess Diaries (Princess Diaries (Audio))</td>\n",
       "      <td>1461180</td>\n",
       "      <td>485</td>\n",
       "      <td>4.5</td>\n",
       "    </tr>\n",
       "    <tr>\n",
       "      <th>544933</th>\n",
       "      <td>Heartbreaker (Chivers Sound Library American ...</td>\n",
       "      <td>2493902</td>\n",
       "      <td>24</td>\n",
       "      <td>4.5</td>\n",
       "    </tr>\n",
       "    <tr>\n",
       "      <th>544936</th>\n",
       "      <td>Hidden in Plain View</td>\n",
       "      <td>1081544</td>\n",
       "      <td>11</td>\n",
       "      <td>4.5</td>\n",
       "    </tr>\n",
       "    <tr>\n",
       "      <th>544962</th>\n",
       "      <td>The Guns of Navarone/Audio Cassettes</td>\n",
       "      <td>1955206</td>\n",
       "      <td>16</td>\n",
       "      <td>4.5</td>\n",
       "    </tr>\n",
       "    <tr>\n",
       "      <th>545004</th>\n",
       "      <td>The Great House Of God</td>\n",
       "      <td>1214955</td>\n",
       "      <td>15</td>\n",
       "      <td>5.0</td>\n",
       "    </tr>\n",
       "    <tr>\n",
       "      <th>545013</th>\n",
       "      <td>The Inextinguishable Symphony: A True Story o...</td>\n",
       "      <td>1400693</td>\n",
       "      <td>40</td>\n",
       "      <td>5.0</td>\n",
       "    </tr>\n",
       "    <tr>\n",
       "      <th>545021</th>\n",
       "      <td>Who Moved the Stone?</td>\n",
       "      <td>855975</td>\n",
       "      <td>13</td>\n",
       "      <td>4.5</td>\n",
       "    </tr>\n",
       "    <tr>\n",
       "      <th>545106</th>\n",
       "      <td>The Prize Winner of Defiance, Ohio : How my m...</td>\n",
       "      <td>1092412</td>\n",
       "      <td>86</td>\n",
       "      <td>4.5</td>\n",
       "    </tr>\n",
       "    <tr>\n",
       "      <th>546231</th>\n",
       "      <td>The Ghost</td>\n",
       "      <td>901702</td>\n",
       "      <td>117</td>\n",
       "      <td>4.0</td>\n",
       "    </tr>\n",
       "    <tr>\n",
       "      <th>546537</th>\n",
       "      <td>The Winter's Tale (Arkangel Complete Shakespe...</td>\n",
       "      <td>972978</td>\n",
       "      <td>17</td>\n",
       "      <td>4.5</td>\n",
       "    </tr>\n",
       "    <tr>\n",
       "      <th>546623</th>\n",
       "      <td>Weasel</td>\n",
       "      <td>1747024</td>\n",
       "      <td>54</td>\n",
       "      <td>4.0</td>\n",
       "    </tr>\n",
       "    <tr>\n",
       "      <th>547306</th>\n",
       "      <td>Roman Blood</td>\n",
       "      <td>933895</td>\n",
       "      <td>58</td>\n",
       "      <td>4.0</td>\n",
       "    </tr>\n",
       "    <tr>\n",
       "      <th>547401</th>\n",
       "      <td>The Commodore</td>\n",
       "      <td>1309072</td>\n",
       "      <td>14</td>\n",
       "      <td>4.5</td>\n",
       "    </tr>\n",
       "    <tr>\n",
       "      <th>547491</th>\n",
       "      <td>The Times of My Life</td>\n",
       "      <td>1382602</td>\n",
       "      <td>14</td>\n",
       "      <td>4.5</td>\n",
       "    </tr>\n",
       "    <tr>\n",
       "      <th>548425</th>\n",
       "      <td>Welcome to Temptation</td>\n",
       "      <td>1128390</td>\n",
       "      <td>167</td>\n",
       "      <td>4.5</td>\n",
       "    </tr>\n",
       "  </tbody>\n",
       "</table>\n",
       "<p>3371 rows × 4 columns</p>\n",
       "</div>"
      ],
      "text/plain": [
       "                                                    title  salesrank  \\\n",
       "198                                   Imitation of Christ     933676   \n",
       "329                   James Joyce (Penguin Lives (Audio))    1204592   \n",
       "481                    A Major Case: A Novel by Pete Deer    2860756   \n",
       "935                                             Frederick    1035931   \n",
       "1819                                          Light House     861412   \n",
       "1956                                       Final Blackout    1337368   \n",
       "2009      Laughter in the Dark (New Directions Paperbook)    1061681   \n",
       "2014     When I Was Little: A Four Year Old's Memoir o...    1072575   \n",
       "2384                                           If I Could     928240   \n",
       "2685                                          Animal Farm    1007371   \n",
       "2701     Holy Bible New Living Translation: Burgundy B...    1151213   \n",
       "2985                                      Nudges from God    1042056   \n",
       "3542                                     Road to Gandolfo     919045   \n",
       "3603                                 3 Nbs of Julian Drew    1371451   \n",
       "3688                                          City of God    1333989   \n",
       "3754     Help Yourself: Celebrating the Rewards of Res...    1774057   \n",
       "3975     The Waste Land and Other Poems (Penguin Class...     962848   \n",
       "4233                               Investing in the Dream    1436049   \n",
       "4303                                         Mistress Pat    1967651   \n",
       "4315                                              Forever    1586706   \n",
       "4476     The Art of Creative Lettering: 50 Amazing New...     965439   \n",
       "4645      Heaven and Earth (Three Sisters Island Trilogy)     972695   \n",
       "4654                        Keeping Secrets, Telling Lies    1040059   \n",
       "4666                                     La Reina Del Sur    1028627   \n",
       "4728              Tribulation Force (Left Behind, Book 2)    1113061   \n",
       "4739         Harry Potter and the Goblet of Fire (Book 4)     868892   \n",
       "4788     Unraveling the Mystery of the Motivational Gifts    1177402   \n",
       "5058                           Classical Ballet Technique     991968   \n",
       "5076                                        All but Alice    1079248   \n",
       "5298                NY Times on The Sopranos 2002 Edition    1384692   \n",
       "...                                                   ...        ...   \n",
       "544089                  21 Irrefutable Laws Of Leadership     914010   \n",
       "544132                                               Soup     874225   \n",
       "544239                                   A Passion to Win     941330   \n",
       "544313                              A Cold Day for Murder     888355   \n",
       "544324                                 Complete Bible-KJV    1153582   \n",
       "544334   Scourby KJV  Dramatized Cassette - Complete B...    1629643   \n",
       "544386         The Black Album (Penguin/Faber Audiobooks)    1525199   \n",
       "544412                                          Miss Mapp    1824463   \n",
       "544729                                     The Chisellers     855220   \n",
       "544786             Anne of Green Gables (Junior Classics)    1567157   \n",
       "544857                                      Inside Camp X    1627596   \n",
       "544873   The Nearest Far Away Place: Brian Wilson, the...    1414271   \n",
       "544876                                Density of Souls, A    2638770   \n",
       "544883   The Great American Sex Diet : Where The Only ...     938990   \n",
       "544917                                        Witch Child    1931962   \n",
       "544921    The Princess Diaries (Princess Diaries (Audio))    1461180   \n",
       "544933   Heartbreaker (Chivers Sound Library American ...    2493902   \n",
       "544936                               Hidden in Plain View    1081544   \n",
       "544962               The Guns of Navarone/Audio Cassettes    1955206   \n",
       "545004                             The Great House Of God    1214955   \n",
       "545013   The Inextinguishable Symphony: A True Story o...    1400693   \n",
       "545021                               Who Moved the Stone?     855975   \n",
       "545106   The Prize Winner of Defiance, Ohio : How my m...    1092412   \n",
       "546231                                          The Ghost     901702   \n",
       "546537   The Winter's Tale (Arkangel Complete Shakespe...     972978   \n",
       "546623                                             Weasel    1747024   \n",
       "547306                                        Roman Blood     933895   \n",
       "547401                                      The Commodore    1309072   \n",
       "547491                               The Times of My Life    1382602   \n",
       "548425                              Welcome to Temptation    1128390   \n",
       "\n",
       "        total_reviews  avg_rating  \n",
       "198                39         4.5  \n",
       "329                14         4.5  \n",
       "481                14         4.5  \n",
       "935                19         4.5  \n",
       "1819               21         4.0  \n",
       "1956               16         4.0  \n",
       "2009               25         4.5  \n",
       "2014               15         4.5  \n",
       "2384               43         4.0  \n",
       "2685              992         4.5  \n",
       "2701               32         4.5  \n",
       "2985               12         5.0  \n",
       "3542               23         4.0  \n",
       "3603               17         5.0  \n",
       "3688               26         4.5  \n",
       "3754               29         4.5  \n",
       "3975               17         4.5  \n",
       "4233               13         5.0  \n",
       "4303               14         4.0  \n",
       "4315               63         4.5  \n",
       "4476               29         4.5  \n",
       "4645              114         4.5  \n",
       "4654               14         4.0  \n",
       "4666               13         5.0  \n",
       "4728              406         4.0  \n",
       "4739             4921         5.0  \n",
       "4788               14         5.0  \n",
       "5058               23         4.5  \n",
       "5076               11         4.5  \n",
       "5298               17         4.0  \n",
       "...               ...         ...  \n",
       "544089            145         4.0  \n",
       "544132             12         4.5  \n",
       "544239             22         4.0  \n",
       "544313             13         4.0  \n",
       "544324             23         4.0  \n",
       "544334             23         4.0  \n",
       "544386             14         4.0  \n",
       "544412             11         4.5  \n",
       "544729             20         4.5  \n",
       "544786            267         4.5  \n",
       "544857             16         5.0  \n",
       "544873             31         4.0  \n",
       "544876            330         4.0  \n",
       "544883             19         4.5  \n",
       "544917             97         4.0  \n",
       "544921            485         4.5  \n",
       "544933             24         4.5  \n",
       "544936             11         4.5  \n",
       "544962             16         4.5  \n",
       "545004             15         5.0  \n",
       "545013             40         5.0  \n",
       "545021             13         4.5  \n",
       "545106             86         4.5  \n",
       "546231            117         4.0  \n",
       "546537             17         4.5  \n",
       "546623             54         4.0  \n",
       "547306             58         4.0  \n",
       "547401             14         4.5  \n",
       "547491             14         4.5  \n",
       "548425            167         4.5  \n",
       "\n",
       "[3371 rows x 4 columns]"
      ]
     },
     "execution_count": 39,
     "metadata": {},
     "output_type": "execute_result"
    }
   ],
   "source": [
    "# from the above cells, we know that the 75th percentile is 8.550255e+05\n",
    "# let us see how many books that have a sales rank above this but have an avg rating of 4 or greater\n",
    "# and has at least more than 10 reviews - this to account for books that have very unique readers\n",
    "book_review_df[(book_review_df['salesrank']>855025)&(book_review_df['avg_rating']>=4)&(book_review_df['total_reviews']>10)][['title','salesrank','total_reviews','avg_rating']]"
   ]
  },
  {
   "cell_type": "markdown",
   "metadata": {},
   "source": [
    "***\n",
    "### Category bloat\n",
    "_Consider the product group named 'Books'. Each product in this group is associated with categories. Naturally, with categorization, there are tradeoffs between how broad or specific the categories must be._\n",
    "\n",
    "_For this dataset, quantify the following:_\n",
    "1. Is there redundancy in the categorization? How can it be identified/removed?\n",
    "2. Is is possible to reduce the number of categories drastically (say to 10% of existing categories) by sacrificing relatively few category entries (say close to 10%)?"
   ]
  },
  {
   "cell_type": "markdown",
   "metadata": {},
   "source": [
    "***\n",
    "Let us look at the categories"
   ]
  },
  {
   "cell_type": "code",
   "execution_count": 40,
   "metadata": {},
   "outputs": [
    {
     "data": {
      "text/plain": [
       "['   |Books[283155]|Subjects[1000]|Religion & Spirituality[22]|Christianity[12290]|Clergy[12360]|Preaching[12368]',\n",
       " '   |Books[283155]|Subjects[1000]|Religion & Spirituality[22]|Christianity[12290]|Clergy[12360]|Sermons[12370]']"
      ]
     },
     "execution_count": 40,
     "metadata": {},
     "output_type": "execute_result"
    }
   ],
   "source": [
    "book_review_df['categories'].iloc[0]"
   ]
  },
  {
   "cell_type": "code",
   "execution_count": 41,
   "metadata": {},
   "outputs": [
    {
     "data": {
      "text/plain": [
       "['   |Books[283155]|Subjects[1000]|Cooking, Food & Wine[6]|Cooking by Ingredient[4208]|Herbs, Spices & Condiments[4211]',\n",
       " '   |Books[283155]|Subjects[1000]|Cooking, Food & Wine[6]|General[4233]',\n",
       " '   |Books[283155]|Subjects[1000]|Cooking, Food & Wine[6]|Special Diet[4317]|Diabetic & Sugar-Free[4318]',\n",
       " '   |Books[283155]|Subjects[1000]|Cooking, Food & Wine[6]|Special Diet[4317]|Low Fat[4323]',\n",
       " '   |Books[283155]|Subjects[1000]|Health, Mind & Body[10]|Nutrition[282861]|General[4628]',\n",
       " '   |Books[283155]|Subjects[1000]|Health, Mind & Body[10]|Diets & Weight Loss[4613]|Special Conditions[4632]|Low Carbohydrate[4639]',\n",
       " '   |Books[283155]|Subjects[1000]|Health, Mind & Body[10]|Diets & Weight Loss[4613]|Special Conditions[4632]|Low Sugar[4642]',\n",
       " '   |Books[283155]|Subjects[1000]|Health, Mind & Body[10]|Diets & Weight Loss[4613]|Special Conditions[4632]|Low-Fat Diet[282849]',\n",
       " '   |Books[283155]|Subjects[1000]|Health, Mind & Body[10]|Diets & Weight Loss[4613]|Diets[4615]|Low Carb[10924671]']"
      ]
     },
     "execution_count": 41,
     "metadata": {},
     "output_type": "execute_result"
    }
   ],
   "source": [
    "book_review_df['categories'].iloc[10]"
   ]
  },
  {
   "cell_type": "code",
   "execution_count": 42,
   "metadata": {},
   "outputs": [
    {
     "data": {
      "text/plain": [
       "[\"   |Books[283155]|Subjects[1000]|Children's Books[4]|Literature[2966]|Action & Adventure[2967]\",\n",
       " \"   |Books[283155]|Subjects[1000]|Children's Books[4]|Science, Nature & How It Works[3207]|Fiction[3228]\",\n",
       " \"   |Books[283155]|Subjects[1000]|Children's Books[4]|Series[3302]|Early Reader[3315]|Magic School Bus[3324]\",\n",
       " \"   |Books[283155]|Subjects[1000]|Children's Books[4]|Ages 4-8[2785]|Picture Books[170061]\",\n",
       " \"   |Books[283155]|Subjects[1000]|Children's Books[4]|Authors & Illustrators, A-Z[170540]|( C )[170543]|Cole, Joanna[170637]\",\n",
       " \"   |Books[283155]|Subjects[1000]|Children's Books[4]|Authors & Illustrators, A-Z[170540]|( D )[170544]|Degen, Bruce[170651]\",\n",
       " '   |Books[283155]|Formats[504358]|Libros en español[301731]|Infantil y juvenil[301735]|No ficción[301737]',\n",
       " '   |Books[283155]|Formats[504358]|Libros en español[301731]|Infantil y juvenil[301735]|4 a 8 años[301739]']"
      ]
     },
     "execution_count": 42,
     "metadata": {},
     "output_type": "execute_result"
    }
   ],
   "source": [
    "book_review_df['categories'].iloc[100]"
   ]
  },
  {
   "cell_type": "markdown",
   "metadata": {},
   "source": [
    "From the above, we see that there are multiple categories that are repeated in the same pattern. To find out if we can reduce the redundancy, find out the distribution of the sub-categories within the category list. There may be some subcategories that figure in only a few books. By finding if there are such categories, we can reduce category bloat "
   ]
  },
  {
   "cell_type": "code",
   "execution_count": 81,
   "metadata": {},
   "outputs": [],
   "source": [
    "all_cat_list=[]\n",
    "tot_cat_list=0\n",
    "for item in book_review_df['categories']:\n",
    "    for cat_list in item:\n",
    "        tot_cat_list=tot_cat_list+1\n",
    "        for c in (cat_list[4:].strip().split('|')):\n",
    "            all_cat_list.append(c)"
   ]
  },
  {
   "cell_type": "code",
   "execution_count": 82,
   "metadata": {},
   "outputs": [
    {
     "data": {
      "text/plain": [
       "7888715"
      ]
     },
     "execution_count": 82,
     "metadata": {},
     "output_type": "execute_result"
    }
   ],
   "source": [
    "len(all_cat_list)"
   ]
  },
  {
   "cell_type": "code",
   "execution_count": 83,
   "metadata": {},
   "outputs": [
    {
     "data": {
      "text/plain": [
       "1439885"
      ]
     },
     "execution_count": 83,
     "metadata": {},
     "output_type": "execute_result"
    }
   ],
   "source": [
    "tot_cat_list"
   ]
  },
  {
   "cell_type": "code",
   "execution_count": 84,
   "metadata": {},
   "outputs": [
    {
     "data": {
      "text/plain": [
       "393188"
      ]
     },
     "execution_count": 84,
     "metadata": {},
     "output_type": "execute_result"
    }
   ],
   "source": [
    "len(book_review_df)"
   ]
  },
  {
   "cell_type": "markdown",
   "metadata": {},
   "source": [
    "There are a total of 393188 books reviewed; 1,439,885 grouping of categories across these books "
   ]
  },
  {
   "cell_type": "code",
   "execution_count": 86,
   "metadata": {},
   "outputs": [
    {
     "data": {
      "text/plain": [
       "14922"
      ]
     },
     "execution_count": 86,
     "metadata": {},
     "output_type": "execute_result"
    }
   ],
   "source": [
    "len(set(all_cat_list))"
   ]
  },
  {
   "cell_type": "markdown",
   "metadata": {},
   "source": [
    "14,922 unique categories used"
   ]
  },
  {
   "cell_type": "code",
   "execution_count": 96,
   "metadata": {},
   "outputs": [],
   "source": [
    "cat_df=pd.DataFrame(all_cat_list)"
   ]
  },
  {
   "cell_type": "code",
   "execution_count": 97,
   "metadata": {
    "collapsed": true
   },
   "outputs": [],
   "source": [
    "cat_df.columns=['Category']"
   ]
  },
  {
   "cell_type": "code",
   "execution_count": 110,
   "metadata": {},
   "outputs": [],
   "source": [
    "cat_counts_df=pd.DataFrame(cat_df.groupby('Category').size().sort_values()).reset_index()"
   ]
  },
  {
   "cell_type": "code",
   "execution_count": 112,
   "metadata": {},
   "outputs": [],
   "source": [
    "cat_counts_df.columns=['Category','Count']"
   ]
  },
  {
   "cell_type": "code",
   "execution_count": 113,
   "metadata": {},
   "outputs": [
    {
     "data": {
      "text/plain": [
       "7888715"
      ]
     },
     "execution_count": 113,
     "metadata": {},
     "output_type": "execute_result"
    }
   ],
   "source": [
    "cat_counts_df.Count.sum()"
   ]
  },
  {
   "cell_type": "code",
   "execution_count": 116,
   "metadata": {},
   "outputs": [
    {
     "data": {
      "text/html": [
       "<div>\n",
       "<style>\n",
       "    .dataframe thead tr:only-child th {\n",
       "        text-align: right;\n",
       "    }\n",
       "\n",
       "    .dataframe thead th {\n",
       "        text-align: left;\n",
       "    }\n",
       "\n",
       "    .dataframe tbody tr th {\n",
       "        vertical-align: top;\n",
       "    }\n",
       "</style>\n",
       "<table border=\"1\" class=\"dataframe\">\n",
       "  <thead>\n",
       "    <tr style=\"text-align: right;\">\n",
       "      <th></th>\n",
       "      <th>Category</th>\n",
       "      <th>Count</th>\n",
       "    </tr>\n",
       "  </thead>\n",
       "  <tbody>\n",
       "    <tr>\n",
       "      <th>0</th>\n",
       "      <td>von Konigslow, Andrea Wayne[1044084]</td>\n",
       "      <td>1</td>\n",
       "    </tr>\n",
       "    <tr>\n",
       "      <th>1</th>\n",
       "      <td>Renaissance (c.1450-1600)[490124]</td>\n",
       "      <td>1</td>\n",
       "    </tr>\n",
       "    <tr>\n",
       "      <th>2</th>\n",
       "      <td>Eastern European[4278]</td>\n",
       "      <td>1</td>\n",
       "    </tr>\n",
       "    <tr>\n",
       "      <th>3</th>\n",
       "      <td>Audio CD[287468]</td>\n",
       "      <td>1</td>\n",
       "    </tr>\n",
       "    <tr>\n",
       "      <th>4</th>\n",
       "      <td>Suites[36675]</td>\n",
       "      <td>1</td>\n",
       "    </tr>\n",
       "    <tr>\n",
       "      <th>5</th>\n",
       "      <td>Leonard, Paul[15540]</td>\n",
       "      <td>1</td>\n",
       "    </tr>\n",
       "    <tr>\n",
       "      <th>6</th>\n",
       "      <td>Musicals &amp; Performing Arts[508526]</td>\n",
       "      <td>1</td>\n",
       "    </tr>\n",
       "    <tr>\n",
       "      <th>7</th>\n",
       "      <td>Atwood, Margaret[1064970]</td>\n",
       "      <td>1</td>\n",
       "    </tr>\n",
       "    <tr>\n",
       "      <th>8</th>\n",
       "      <td>Hassam, Childe[67955]</td>\n",
       "      <td>1</td>\n",
       "    </tr>\n",
       "    <tr>\n",
       "      <th>9</th>\n",
       "      <td>Muslim[1804]</td>\n",
       "      <td>1</td>\n",
       "    </tr>\n",
       "    <tr>\n",
       "      <th>10</th>\n",
       "      <td>Mussorgsky, Modest[1565]</td>\n",
       "      <td>1</td>\n",
       "    </tr>\n",
       "    <tr>\n",
       "      <th>11</th>\n",
       "      <td>Sudden Infant Death Syndrome[282965]</td>\n",
       "      <td>1</td>\n",
       "    </tr>\n",
       "    <tr>\n",
       "      <th>12</th>\n",
       "      <td>Education[14282451]</td>\n",
       "      <td>1</td>\n",
       "    </tr>\n",
       "    <tr>\n",
       "      <th>13</th>\n",
       "      <td>Leithauser, Brad[70415]</td>\n",
       "      <td>1</td>\n",
       "    </tr>\n",
       "    <tr>\n",
       "      <th>14</th>\n",
       "      <td>Mutter, Scott[733654]</td>\n",
       "      <td>1</td>\n",
       "    </tr>\n",
       "    <tr>\n",
       "      <th>15</th>\n",
       "      <td>Edward VII[2401]</td>\n",
       "      <td>1</td>\n",
       "    </tr>\n",
       "    <tr>\n",
       "      <th>16</th>\n",
       "      <td>Athletes[896908]</td>\n",
       "      <td>1</td>\n",
       "    </tr>\n",
       "    <tr>\n",
       "      <th>17</th>\n",
       "      <td>Leiber, Fritz[7717]</td>\n",
       "      <td>1</td>\n",
       "    </tr>\n",
       "    <tr>\n",
       "      <th>18</th>\n",
       "      <td>Stuart, Gilbert[1425]</td>\n",
       "      <td>1</td>\n",
       "    </tr>\n",
       "    <tr>\n",
       "      <th>19</th>\n",
       "      <td>Eiffel[3976]</td>\n",
       "      <td>1</td>\n",
       "    </tr>\n",
       "    <tr>\n",
       "      <th>20</th>\n",
       "      <td>Swahili[3151761]</td>\n",
       "      <td>1</td>\n",
       "    </tr>\n",
       "    <tr>\n",
       "      <th>21</th>\n",
       "      <td>Polish[3151661]</td>\n",
       "      <td>1</td>\n",
       "    </tr>\n",
       "    <tr>\n",
       "      <th>22</th>\n",
       "      <td>Swaziland[4800]</td>\n",
       "      <td>1</td>\n",
       "    </tr>\n",
       "    <tr>\n",
       "      <th>23</th>\n",
       "      <td>Warrington, Freda[9556]</td>\n",
       "      <td>1</td>\n",
       "    </tr>\n",
       "    <tr>\n",
       "      <th>24</th>\n",
       "      <td>Drama[735460]</td>\n",
       "      <td>1</td>\n",
       "    </tr>\n",
       "    <tr>\n",
       "      <th>25</th>\n",
       "      <td>Swinburne, Algernon Charles[70649]</td>\n",
       "      <td>1</td>\n",
       "    </tr>\n",
       "    <tr>\n",
       "      <th>26</th>\n",
       "      <td>Levine, Ted[433426]</td>\n",
       "      <td>1</td>\n",
       "    </tr>\n",
       "    <tr>\n",
       "      <th>27</th>\n",
       "      <td>Quintets[5330]</td>\n",
       "      <td>1</td>\n",
       "    </tr>\n",
       "    <tr>\n",
       "      <th>28</th>\n",
       "      <td>Musgrave, Susan[10374]</td>\n",
       "      <td>1</td>\n",
       "    </tr>\n",
       "    <tr>\n",
       "      <th>29</th>\n",
       "      <td>Wandrei, Donald[9544]</td>\n",
       "      <td>1</td>\n",
       "    </tr>\n",
       "    <tr>\n",
       "      <th>...</th>\n",
       "      <td>...</td>\n",
       "      <td>...</td>\n",
       "    </tr>\n",
       "    <tr>\n",
       "      <th>1074</th>\n",
       "      <td>Girard, Paula Tanner[13020]</td>\n",
       "      <td>1</td>\n",
       "    </tr>\n",
       "    <tr>\n",
       "      <th>1075</th>\n",
       "      <td>Alighieri, Dante[585932]</td>\n",
       "      <td>1</td>\n",
       "    </tr>\n",
       "    <tr>\n",
       "      <th>1076</th>\n",
       "      <td>French[64716]</td>\n",
       "      <td>1</td>\n",
       "    </tr>\n",
       "    <tr>\n",
       "      <th>1077</th>\n",
       "      <td>Kebra Negast[297510]</td>\n",
       "      <td>1</td>\n",
       "    </tr>\n",
       "    <tr>\n",
       "      <th>1078</th>\n",
       "      <td>Gallison, Kate[69430]</td>\n",
       "      <td>1</td>\n",
       "    </tr>\n",
       "    <tr>\n",
       "      <th>1079</th>\n",
       "      <td>Wilhelm, Kate[16126]</td>\n",
       "      <td>1</td>\n",
       "    </tr>\n",
       "    <tr>\n",
       "      <th>1080</th>\n",
       "      <td>Snyder, Zilpha Keatley[912862]</td>\n",
       "      <td>1</td>\n",
       "    </tr>\n",
       "    <tr>\n",
       "      <th>1081</th>\n",
       "      <td>Wigman, Mary[1511]</td>\n",
       "      <td>1</td>\n",
       "    </tr>\n",
       "    <tr>\n",
       "      <th>1082</th>\n",
       "      <td>Gainsborough, Thomas[1229]</td>\n",
       "      <td>1</td>\n",
       "    </tr>\n",
       "    <tr>\n",
       "      <th>1083</th>\n",
       "      <td>Snyder, Zilpha Keatley[9098]</td>\n",
       "      <td>1</td>\n",
       "    </tr>\n",
       "    <tr>\n",
       "      <th>1084</th>\n",
       "      <td>Gabrieli, Giovanni[19403]</td>\n",
       "      <td>1</td>\n",
       "    </tr>\n",
       "    <tr>\n",
       "      <th>1085</th>\n",
       "      <td>African American Heritage[169882]</td>\n",
       "      <td>1</td>\n",
       "    </tr>\n",
       "    <tr>\n",
       "      <th>1086</th>\n",
       "      <td>Albert, Neil[69327]</td>\n",
       "      <td>1</td>\n",
       "    </tr>\n",
       "    <tr>\n",
       "      <th>1087</th>\n",
       "      <td>Kelly, James Patrick[15447]</td>\n",
       "      <td>1</td>\n",
       "    </tr>\n",
       "    <tr>\n",
       "      <th>1088</th>\n",
       "      <td>Kerr, Peg[15457]</td>\n",
       "      <td>1</td>\n",
       "    </tr>\n",
       "    <tr>\n",
       "      <th>1089</th>\n",
       "      <td>Nicholson, Ben[67987]</td>\n",
       "      <td>1</td>\n",
       "    </tr>\n",
       "    <tr>\n",
       "      <th>1090</th>\n",
       "      <td>All Disney Titles[300382]</td>\n",
       "      <td>1</td>\n",
       "    </tr>\n",
       "    <tr>\n",
       "      <th>1091</th>\n",
       "      <td>Gass, William[70277]</td>\n",
       "      <td>1</td>\n",
       "    </tr>\n",
       "    <tr>\n",
       "      <th>1092</th>\n",
       "      <td>Garwood, Julie[287331]</td>\n",
       "      <td>1</td>\n",
       "    </tr>\n",
       "    <tr>\n",
       "      <th>1093</th>\n",
       "      <td>Hill, Susan[7118]</td>\n",
       "      <td>1</td>\n",
       "    </tr>\n",
       "    <tr>\n",
       "      <th>1094</th>\n",
       "      <td>Snyder, Keith[69648]</td>\n",
       "      <td>1</td>\n",
       "    </tr>\n",
       "    <tr>\n",
       "      <th>1095</th>\n",
       "      <td>Songs &amp; Lieder[572060]</td>\n",
       "      <td>1</td>\n",
       "    </tr>\n",
       "    <tr>\n",
       "      <th>1096</th>\n",
       "      <td>Karon, Jan[287306]</td>\n",
       "      <td>1</td>\n",
       "    </tr>\n",
       "    <tr>\n",
       "      <th>1097</th>\n",
       "      <td>Gash, Jonathan[69432]</td>\n",
       "      <td>1</td>\n",
       "    </tr>\n",
       "    <tr>\n",
       "      <th>1098</th>\n",
       "      <td>Kessel, John[15459]</td>\n",
       "      <td>1</td>\n",
       "    </tr>\n",
       "    <tr>\n",
       "      <th>1099</th>\n",
       "      <td>Gaston, Bill[1044180]</td>\n",
       "      <td>1</td>\n",
       "    </tr>\n",
       "    <tr>\n",
       "      <th>1100</th>\n",
       "      <td>Kerstan, Lynn[13095]</td>\n",
       "      <td>1</td>\n",
       "    </tr>\n",
       "    <tr>\n",
       "      <th>1101</th>\n",
       "      <td>Williams, Robin[452712]</td>\n",
       "      <td>1</td>\n",
       "    </tr>\n",
       "    <tr>\n",
       "      <th>1102</th>\n",
       "      <td>Hinz, Christopher[15359]</td>\n",
       "      <td>1</td>\n",
       "    </tr>\n",
       "    <tr>\n",
       "      <th>1103</th>\n",
       "      <td>Forms &amp; Genres[38246]</td>\n",
       "      <td>1</td>\n",
       "    </tr>\n",
       "  </tbody>\n",
       "</table>\n",
       "<p>1104 rows × 2 columns</p>\n",
       "</div>"
      ],
      "text/plain": [
       "                                  Category  Count\n",
       "0     von Konigslow, Andrea Wayne[1044084]      1\n",
       "1        Renaissance (c.1450-1600)[490124]      1\n",
       "2                   Eastern European[4278]      1\n",
       "3                         Audio CD[287468]      1\n",
       "4                            Suites[36675]      1\n",
       "5                     Leonard, Paul[15540]      1\n",
       "6       Musicals & Performing Arts[508526]      1\n",
       "7                Atwood, Margaret[1064970]      1\n",
       "8                    Hassam, Childe[67955]      1\n",
       "9                             Muslim[1804]      1\n",
       "10                Mussorgsky, Modest[1565]      1\n",
       "11    Sudden Infant Death Syndrome[282965]      1\n",
       "12                     Education[14282451]      1\n",
       "13                 Leithauser, Brad[70415]      1\n",
       "14                   Mutter, Scott[733654]      1\n",
       "15                        Edward VII[2401]      1\n",
       "16                        Athletes[896908]      1\n",
       "17                     Leiber, Fritz[7717]      1\n",
       "18                   Stuart, Gilbert[1425]      1\n",
       "19                            Eiffel[3976]      1\n",
       "20                        Swahili[3151761]      1\n",
       "21                         Polish[3151661]      1\n",
       "22                         Swaziland[4800]      1\n",
       "23                 Warrington, Freda[9556]      1\n",
       "24                           Drama[735460]      1\n",
       "25      Swinburne, Algernon Charles[70649]      1\n",
       "26                     Levine, Ted[433426]      1\n",
       "27                          Quintets[5330]      1\n",
       "28                  Musgrave, Susan[10374]      1\n",
       "29                   Wandrei, Donald[9544]      1\n",
       "...                                    ...    ...\n",
       "1074           Girard, Paula Tanner[13020]      1\n",
       "1075              Alighieri, Dante[585932]      1\n",
       "1076                         French[64716]      1\n",
       "1077                  Kebra Negast[297510]      1\n",
       "1078                 Gallison, Kate[69430]      1\n",
       "1079                  Wilhelm, Kate[16126]      1\n",
       "1080        Snyder, Zilpha Keatley[912862]      1\n",
       "1081                    Wigman, Mary[1511]      1\n",
       "1082            Gainsborough, Thomas[1229]      1\n",
       "1083          Snyder, Zilpha Keatley[9098]      1\n",
       "1084             Gabrieli, Giovanni[19403]      1\n",
       "1085     African American Heritage[169882]      1\n",
       "1086                   Albert, Neil[69327]      1\n",
       "1087           Kelly, James Patrick[15447]      1\n",
       "1088                      Kerr, Peg[15457]      1\n",
       "1089                 Nicholson, Ben[67987]      1\n",
       "1090             All Disney Titles[300382]      1\n",
       "1091                  Gass, William[70277]      1\n",
       "1092                Garwood, Julie[287331]      1\n",
       "1093                     Hill, Susan[7118]      1\n",
       "1094                  Snyder, Keith[69648]      1\n",
       "1095                Songs & Lieder[572060]      1\n",
       "1096                    Karon, Jan[287306]      1\n",
       "1097                 Gash, Jonathan[69432]      1\n",
       "1098                   Kessel, John[15459]      1\n",
       "1099                 Gaston, Bill[1044180]      1\n",
       "1100                  Kerstan, Lynn[13095]      1\n",
       "1101               Williams, Robin[452712]      1\n",
       "1102              Hinz, Christopher[15359]      1\n",
       "1103                 Forms & Genres[38246]      1\n",
       "\n",
       "[1104 rows x 2 columns]"
      ]
     },
     "execution_count": 116,
     "metadata": {},
     "output_type": "execute_result"
    }
   ],
   "source": [
    "cat_counts_df[cat_counts_df.Count<=1]"
   ]
  },
  {
   "cell_type": "markdown",
   "metadata": {},
   "source": [
    "We see that there are 1104 out of 14,922 occur only once in the categorization. Hence by looking at this distribution it is possible to reduce the number of categorizations without reducing the overall specificity."
   ]
  },
  {
   "cell_type": "markdown",
   "metadata": {},
   "source": [
    "***\n",
    "\n",
    "### Algorithm thinking\n",
    "How would build the product categorization from scratch, using similar/co-purchased\n",
    "information?"
   ]
  },
  {
   "cell_type": "markdown",
   "metadata": {},
   "source": [
    "By using clustering algorithms, we can create clusters of items that the customers bought together. This would give a different view of product categorization. However, the usefulness of such categorization should be evaluated. For example, while this approach may help someone who would like to buy a diaper bag and diapers, it may not help someone who is trying to compare different brands of diapers. \n"
   ]
  },
  {
   "cell_type": "markdown",
   "metadata": {},
   "source": [
    "### 2. Product thinking\n",
    "Now, put on your 'product thinking' hat.\n",
    "a. Is it a good idea to show users the categorization hierarchy for items?\n",
    "b. Is it a good idea to show users similar/co-purchased items?\n",
    "c. Is it a good idea to show users reviews and ratings for items?\n",
    "d. For each of the above, why? How will you establish the same?"
   ]
  },
  {
   "cell_type": "markdown",
   "metadata": {},
   "source": [
    "a. Is it a good idea to show users the categorization hierarchy for items?\n",
    "\n",
    "It depends on the item and the level of search the customer is looking for. For example, someone who is going to buy any phone as long as it is cheap would not be helped by a hierarchial categorization. Heirarchial categorization is useful when someone is looking for a specific product and its closest alternatives."
   ]
  },
  {
   "cell_type": "markdown",
   "metadata": {},
   "source": [
    "b. Is it a good idea to show users similar/co-purchased items?\n",
    "\n",
    "It usually is. There are certain types of items that people typically purchase together and showing them together acts as a reminder that the customer needs to get the other item as well. Common example, phones and memory cards"
   ]
  },
  {
   "cell_type": "markdown",
   "metadata": {},
   "source": [
    "c. Is it a good idea to show users reviews and ratings for items?\n",
    "\n",
    "In most cases, yes it is. However, there may be certain drawbacks of this approach. Using the ratings allows one to manipulate the perception of the product quality. Also, showing reviews / ratings means that badly rated products / non-rated products would not get as much as air-time as other products. They may not be sold as much as it should have been."
   ]
  },
  {
   "cell_type": "code",
   "execution_count": null,
   "metadata": {
    "collapsed": true
   },
   "outputs": [],
   "source": []
  }
 ],
 "metadata": {
  "kernelspec": {
   "display_name": "Python 3",
   "language": "python",
   "name": "python3"
  },
  "language_info": {
   "codemirror_mode": {
    "name": "ipython",
    "version": 3
   },
   "file_extension": ".py",
   "mimetype": "text/x-python",
   "name": "python",
   "nbconvert_exporter": "python",
   "pygments_lexer": "ipython3",
   "version": "3.6.2"
  }
 },
 "nbformat": 4,
 "nbformat_minor": 2
}
